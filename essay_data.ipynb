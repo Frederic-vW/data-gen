{
 "cells": [
  {
   "cell_type": "markdown",
   "metadata": {},
   "source": [
    "# Essay data generator"
   ]
  },
  {
   "cell_type": "code",
   "execution_count": 120,
   "metadata": {},
   "outputs": [],
   "source": [
    "import numpy as np\n",
    "import pandas as pd\n",
    "import ipywidgets as widgets"
   ]
  },
  {
   "cell_type": "markdown",
   "metadata": {},
   "source": [
    "## 1 How many groups are in your study?"
   ]
  },
  {
   "cell_type": "code",
   "execution_count": 106,
   "metadata": {
    "code_folding": []
   },
   "outputs": [
    {
     "data": {
      "application/vnd.jupyter.widget-view+json": {
       "model_id": "54e27b7b763c42d6b28ccab61b00b3a9",
       "version_major": 2,
       "version_minor": 0
      },
      "text/plain": [
       "IntSlider(value=2, continuous_update=False, description='Nr. of groups: ', max=10, min=2)"
      ]
     },
     "metadata": {},
     "output_type": "display_data"
    }
   ],
   "source": [
    "w1 = widgets.IntSlider(value=2, min=2, max=10, step=1, description='Nr. of groups: ', disabled=False, \n",
    "                       continuous_update=False, orientation='horizontal', readout=True, readout_format='d')\n",
    "w1"
   ]
  },
  {
   "cell_type": "code",
   "execution_count": 107,
   "metadata": {},
   "outputs": [
    {
     "name": "stdout",
     "output_type": "stream",
     "text": [
      "Number of groups: 4\n"
     ]
    }
   ],
   "source": [
    "print(f\"Number of groups: {w1.value:d}\")"
   ]
  },
  {
   "cell_type": "markdown",
   "metadata": {},
   "source": [
    "## 2 How many subjects are in each group?  \n",
    "\n",
    "**Tip**: If you have difficulties getting the exact sample size with the mouse and slider you can use the left and right arrows to change the group size by 1."
   ]
  },
  {
   "cell_type": "code",
   "execution_count": 108,
   "metadata": {},
   "outputs": [
    {
     "data": {
      "application/vnd.jupyter.widget-view+json": {
       "model_id": "f4cc35fc6159467d91b98f4ca9ff1d51",
       "version_major": 2,
       "version_minor": 0
      },
      "text/plain": [
       "IntSlider(value=5, continuous_update=False, description='Group-1 size: ', max=500, min=5)"
      ]
     },
     "metadata": {},
     "output_type": "display_data"
    },
    {
     "data": {
      "application/vnd.jupyter.widget-view+json": {
       "model_id": "c0eef8527950447d9811e8752c7bf0a3",
       "version_major": 2,
       "version_minor": 0
      },
      "text/plain": [
       "IntSlider(value=5, continuous_update=False, description='Group-2 size: ', max=500, min=5)"
      ]
     },
     "metadata": {},
     "output_type": "display_data"
    },
    {
     "data": {
      "application/vnd.jupyter.widget-view+json": {
       "model_id": "649c6ecb6f1a4181a6f8b0151bfd7bf3",
       "version_major": 2,
       "version_minor": 0
      },
      "text/plain": [
       "IntSlider(value=5, continuous_update=False, description='Group-3 size: ', max=500, min=5)"
      ]
     },
     "metadata": {},
     "output_type": "display_data"
    },
    {
     "data": {
      "application/vnd.jupyter.widget-view+json": {
       "model_id": "6c0401f9a0694461a6438d93d66c9137",
       "version_major": 2,
       "version_minor": 0
      },
      "text/plain": [
       "IntSlider(value=5, continuous_update=False, description='Group-4 size: ', max=500, min=5)"
      ]
     },
     "metadata": {},
     "output_type": "display_data"
    }
   ],
   "source": [
    "w2 = [widgets.IntSlider(value=5, min=5, max=500, step=1, description=f'Group-{k+1:d} size: ', disabled=False, \n",
    "                        continuous_update=False, orientation='horizontal', readout=True, readout_format='d') \n",
    "      for k in range(w1.value)]\n",
    "for w in w2: display(w)"
   ]
  },
  {
   "cell_type": "code",
   "execution_count": 109,
   "metadata": {},
   "outputs": [
    {
     "name": "stdout",
     "output_type": "stream",
     "text": [
      "Group-0: n = 10\n",
      "Group-1: n = 15\n",
      "Group-2: n = 20\n",
      "Group-3: n = 25\n"
     ]
    }
   ],
   "source": [
    "#n_per_group = [w.value for w in w2]\n",
    "for k in range(w1.value): print(f\"Group-{k:d}: n = {w2[k].value:d}\")"
   ]
  },
  {
   "cell_type": "markdown",
   "metadata": {},
   "source": [
    "## 3 Define the expected mean value in each group  \n",
    "\n",
    "**Tip**: Consider the units you will be using in your Essay when defining the means."
   ]
  },
  {
   "cell_type": "code",
   "execution_count": 115,
   "metadata": {},
   "outputs": [
    {
     "data": {
      "application/vnd.jupyter.widget-view+json": {
       "model_id": "1d91c7e044b04c0296b58dd063002688",
       "version_major": 2,
       "version_minor": 0
      },
      "text/plain": [
       "Text(value='', description='Mean-1:', placeholder='enter expected mean')"
      ]
     },
     "metadata": {},
     "output_type": "display_data"
    },
    {
     "data": {
      "application/vnd.jupyter.widget-view+json": {
       "model_id": "780fca5ce4524b80a4913821e2809c14",
       "version_major": 2,
       "version_minor": 0
      },
      "text/plain": [
       "Text(value='', description='Mean-2:', placeholder='enter expected mean')"
      ]
     },
     "metadata": {},
     "output_type": "display_data"
    },
    {
     "data": {
      "application/vnd.jupyter.widget-view+json": {
       "model_id": "b501e841556c46c2aeeacea1a52cd84c",
       "version_major": 2,
       "version_minor": 0
      },
      "text/plain": [
       "Text(value='', description='Mean-3:', placeholder='enter expected mean')"
      ]
     },
     "metadata": {},
     "output_type": "display_data"
    },
    {
     "data": {
      "application/vnd.jupyter.widget-view+json": {
       "model_id": "83b85038c2144a3bb92224639cbe90a2",
       "version_major": 2,
       "version_minor": 0
      },
      "text/plain": [
       "Text(value='', description='Mean-4:', placeholder='enter expected mean')"
      ]
     },
     "metadata": {},
     "output_type": "display_data"
    }
   ],
   "source": [
    "w3 = [widgets.Text(placeholder='enter expected mean', description=f'Mean-{k+1:d}:', disabled=False) \n",
    "      for k in range(w1.value)]\n",
    "for w in w3: display(w)"
   ]
  },
  {
   "cell_type": "code",
   "execution_count": 122,
   "metadata": {},
   "outputs": [
    {
     "name": "stdout",
     "output_type": "stream",
     "text": [
      "Mean-0 = 1.10\n",
      "Mean-1 = 2.20\n",
      "Mean-2 = 3.30\n",
      "Mean-3 = -4.40\n"
     ]
    }
   ],
   "source": [
    "try:\n",
    "    means = [float(w.value) for w in w3]\n",
    "    for k, m in enumerate(means): print(f\"Mean-{k:d} = {m:.2f}\")    \n",
    "except:\n",
    "    print(\"please provide valid numbers\")"
   ]
  },
  {
   "cell_type": "markdown",
   "metadata": {},
   "source": [
    "## 4 Your data is generated here "
   ]
  },
  {
   "cell_type": "code",
   "execution_count": 124,
   "metadata": {},
   "outputs": [
    {
     "name": "stdout",
     "output_type": "stream",
     "text": [
      "Group-0 (n=10): mean=0.970, std=0.460\n",
      "Group-1 (n=15): mean=2.246, std=0.194\n",
      "Group-2 (n=20): mean=3.301, std=1.691\n",
      "Group-3 (n=25): mean=-4.374, std=0.378\n",
      "Data saved.\n"
     ]
    }
   ],
   "source": [
    "sd = lambda: 0.1 if np.random.rand() < 0.5 else 0.5\n",
    "dfs = []\n",
    "for k in range(n_groups):\n",
    "    data = means[k] + sd()*means[k]*np.random.randn(n_per_group[k])\n",
    "    print(f\"Group-{k:d} (n={data.size:d}): mean={data.mean():.3f}, std={data.std():.3f}\")\n",
    "    dfs.append(pd.DataFrame({f'Group{k:d}' : data}).reset_index(drop=True))\n",
    "# save data\n",
    "#df_all = pd.concat(dfs, axis=1)\n",
    "#df_all.to_csv(\"essay_data.csv\", index=False)\n",
    "pd.concat(dfs, axis=1).to_csv(\"essay_data.csv\", index=False)\n",
    "print(\"Data saved.\")"
   ]
  },
  {
   "cell_type": "markdown",
   "metadata": {},
   "source": [
    "## 5 Download your data\n",
    "\n",
    "1. To download your data, open the home page of this notebook in a new browser tab with a right-click on the jupyter symbol in the upper left corner of this page:\n",
    "\n",
    "![download-1](./images/data_download_0.png \"Download step-1\")\n",
    "\n",
    "2. On the home page, you will find a directory of all files and you can download the `essay_data.csv` file:\n",
    "\n",
    "![download-2](./images/data_download_2.png \"Download step-2\")"
   ]
  }
 ],
 "metadata": {
  "kernelspec": {
   "display_name": "Python 3",
   "language": "python",
   "name": "python3"
  },
  "language_info": {
   "codemirror_mode": {
    "name": "ipython",
    "version": 3
   },
   "file_extension": ".py",
   "mimetype": "text/x-python",
   "name": "python",
   "nbconvert_exporter": "python",
   "pygments_lexer": "ipython3",
   "version": "3.6.9"
  },
  "toc": {
   "base_numbering": 1,
   "nav_menu": {},
   "number_sections": false,
   "sideBar": true,
   "skip_h1_title": false,
   "title_cell": "Table of Contents",
   "title_sidebar": "Contents",
   "toc_cell": false,
   "toc_position": {},
   "toc_section_display": true,
   "toc_window_display": true
  },
  "varInspector": {
   "cols": {
    "lenName": 16,
    "lenType": 16,
    "lenVar": 40
   },
   "kernels_config": {
    "python": {
     "delete_cmd_postfix": "",
     "delete_cmd_prefix": "del ",
     "library": "var_list.py",
     "varRefreshCmd": "print(var_dic_list())"
    },
    "r": {
     "delete_cmd_postfix": ") ",
     "delete_cmd_prefix": "rm(",
     "library": "var_list.r",
     "varRefreshCmd": "cat(var_dic_list()) "
    }
   },
   "types_to_exclude": [
    "module",
    "function",
    "builtin_function_or_method",
    "instance",
    "_Feature"
   ],
   "window_display": false
  }
 },
 "nbformat": 4,
 "nbformat_minor": 4
}
