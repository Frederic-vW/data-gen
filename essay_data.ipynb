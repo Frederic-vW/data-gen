{
 "cells": [
  {
   "cell_type": "markdown",
   "metadata": {},
   "source": [
    "# Essay data generator\n",
    "\n",
    "Run the following code cells by\n",
    "- clicking into the code cell and Ctrl+Return on the keyboard  \n",
    "OR\n",
    "- clicking the run button on the left of the cell\n",
    "\n",
    "**_You must run the first cell with the import statements!_**"
   ]
  },
  {
   "cell_type": "code",
   "execution_count": null,
   "metadata": {},
   "outputs": [],
   "source": [
    "import numpy as np\n",
    "import pandas as pd\n",
    "import ipywidgets as widgets"
   ]
  },
  {
   "cell_type": "markdown",
   "metadata": {},
   "source": [
    "## 1 How many groups are in your study?"
   ]
  },
  {
   "cell_type": "code",
   "execution_count": null,
   "metadata": {
    "code_folding": []
   },
   "outputs": [],
   "source": [
    "w1 = widgets.IntSlider(value=2, min=2, max=10, description='Nr. of groups: ')\n",
    "w1"
   ]
  },
  {
   "cell_type": "markdown",
   "metadata": {},
   "source": [
    "## 2 How many subjects are in each group?  \n",
    "\n",
    "**Tip**: If you have difficulties getting the exact sample size with the mouse and slider you can use the left and right arrows to change the group size by 1."
   ]
  },
  {
   "cell_type": "code",
   "execution_count": null,
   "metadata": {},
   "outputs": [],
   "source": [
    "w2 = [widgets.IntSlider(value=5, min=5, max=500, step=1, description=f'Group-{k+1:d} size: ') \n",
    "      for k in range(w1.value)]\n",
    "for w in w2: display(w)"
   ]
  },
  {
   "cell_type": "markdown",
   "metadata": {},
   "source": [
    "## 3 Define the expected mean value in each group  \n",
    "\n",
    "**Tips**:\n",
    "- Consider the units you will be using in your Essay when defining the means\n",
    "- Use the dot `.` for decimal values, **don't** use the comma `,`"
   ]
  },
  {
   "cell_type": "code",
   "execution_count": null,
   "metadata": {},
   "outputs": [],
   "source": [
    "w3 = [widgets.Text(placeholder='enter expected mean', description=f'Mean-{k+1:d}:') for k in range(w1.value)]\n",
    "for w in w3: display(w)"
   ]
  },
  {
   "cell_type": "markdown",
   "metadata": {},
   "source": [
    "Run the following code cell to check whether your input could be processed correctly."
   ]
  },
  {
   "cell_type": "code",
   "execution_count": null,
   "metadata": {},
   "outputs": [],
   "source": [
    "try:\n",
    "    means = [float(w.value) for w in w3]\n",
    "    for k, m in enumerate(means): print(f\"Mean-{k:d} = {m:.3f}\")    \n",
    "except:\n",
    "    print(\"please provide valid numbers\")"
   ]
  },
  {
   "cell_type": "markdown",
   "metadata": {},
   "source": [
    "## 4 Your data is generated here "
   ]
  },
  {
   "cell_type": "code",
   "execution_count": null,
   "metadata": {},
   "outputs": [],
   "source": [
    "sd = lambda: 0.1 if np.random.rand() < 0.5 else 0.5\n",
    "dfs = []\n",
    "for k in range(w1.value):\n",
    "    data = means[k] + sd()*means[k]*np.random.randn(w2[k].value)\n",
    "    dfs.append(pd.DataFrame({f'Group{k+1:d}' : data}).reset_index(drop=True))\n",
    "pd.concat(dfs, axis=1).to_csv(\"essay_data.csv\", index=False)\n",
    "print(\"Data saved.\")"
   ]
  },
  {
   "cell_type": "markdown",
   "metadata": {},
   "source": [
    "## 5 Download your data\n",
    "\n",
    "1. To download your data, open the home page of this notebook in a new browser tab with a right-click on the jupyter symbol in the upper left corner of this page:\n",
    "\n",
    "![download-1](./images/data_download_0.png \"Download step-1\")\n",
    "\n",
    "2. On the home page, you will find a directory of all files and you can download the `essay_data.csv` file:\n",
    "\n",
    "![download-2](./images/data_download_2.png \"Download step-2\")"
   ]
  }
 ],
 "metadata": {
  "kernelspec": {
   "display_name": "Python 3",
   "language": "python",
   "name": "python3"
  },
  "language_info": {
   "codemirror_mode": {
    "name": "ipython",
    "version": 3
   },
   "file_extension": ".py",
   "mimetype": "text/x-python",
   "name": "python",
   "nbconvert_exporter": "python",
   "pygments_lexer": "ipython3",
   "version": "3.6.9"
  },
  "toc": {
   "base_numbering": 1,
   "nav_menu": {},
   "number_sections": false,
   "sideBar": true,
   "skip_h1_title": false,
   "title_cell": "Table of Contents",
   "title_sidebar": "Contents",
   "toc_cell": false,
   "toc_position": {},
   "toc_section_display": true,
   "toc_window_display": true
  },
  "varInspector": {
   "cols": {
    "lenName": 16,
    "lenType": 16,
    "lenVar": 40
   },
   "kernels_config": {
    "python": {
     "delete_cmd_postfix": "",
     "delete_cmd_prefix": "del ",
     "library": "var_list.py",
     "varRefreshCmd": "print(var_dic_list())"
    },
    "r": {
     "delete_cmd_postfix": ") ",
     "delete_cmd_prefix": "rm(",
     "library": "var_list.r",
     "varRefreshCmd": "cat(var_dic_list()) "
    }
   },
   "types_to_exclude": [
    "module",
    "function",
    "builtin_function_or_method",
    "instance",
    "_Feature"
   ],
   "window_display": false
  }
 },
 "nbformat": 4,
 "nbformat_minor": 4
}
